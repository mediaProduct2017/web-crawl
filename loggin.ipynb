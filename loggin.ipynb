{
 "cells": [
  {
   "cell_type": "markdown",
   "metadata": {},
   "source": [
    "# loggin\n",
    "\n",
    "## 使用cookie\n",
    "\n",
    "1. 手动从chrome中拷贝cookie\n",
    "\n",
    "2. 用python从chrome自带嵌入式数据库中读取cookie\n",
    "\n",
    "3. 用scrapy获取不断变化的cookie\n",
    "\n",
    "## 手动Chrome识别验证码，并与python服务器交互，建立websocket连接\n",
    "\n",
    "客户端浏览器发出请求，与python服务器建立websocket连接，同时请求python服务器向外部网站发出请求，外部网站的回复再由python服务器传给客户端浏览器，展示验证码，解出来的结果通过python服务器传给外部网站，外部网站返回的cookie等信息可用于python服务器爬虫。如果外部网站在某个时候再次发回验证码，就再由python服务器发给客户端，并发出警报声（就好像自动抢票的插件一样），人工解出来以后返回。\n",
    "\n",
    "## python自动获取验证码图片，传给相关服务器，并拿到识别结果，建立http连接\n",
    "\n"
   ]
  },
  {
   "cell_type": "code",
   "execution_count": null,
   "metadata": {
    "collapsed": true
   },
   "outputs": [],
   "source": [
    "import requests\n",
    "\n",
    "class NetTour:\n",
    "    your_cookie = ''\n",
    "    cookie = {\"Cookie\": your_cookie}  # 将your cookie替换成自己的cookie\n",
    "\n",
    "    def __init__(self, user_id):\n",
    "        self.user_id = user_id\n",
    "        self.username = ''\n",
    "        # self.dryscrape_session = dryscrape.Session()\n",
    "\n",
    "    def get_username_static_cookie(self):\n",
    "        try:\n",
    "            url = \"https://weibo.com/{}?is_all=1\".format(self.user_id)\n",
    "\n",
    "            user_agent = 'Mozilla/5.0 (Macintosh; Intel Mac OS X 10_9_1) AppleWebKit/537.36 (KHTML, like Gecko) Chrome/67.0.3396.87 Safari/537.36'\n",
    "            default_request_headers = {\n",
    "                'Connection': 'Keep-Alive',\n",
    "                'Upgrade-Insecure-Requests': '1', \n",
    "                'User-Agent': user_agent,\n",
    "                'Accept': 'text/html,application/xhtml+xml,application/xml;q=0.9,image/webp,image/apng,*/*;q=0.8', \n",
    "                'Accept-Encoding': 'gzip, deflate, br', \n",
    "                'Accept-Language': 'zh-CN,zh;q=0.9,en;q=0.8'\n",
    "            }\n",
    "            html = requests.get(url, cookies=self.cookie,\n",
    "                                headers=default_request_headers).content\n",
    "            print('Successfully get html.')\n",
    "            return html\n",
    "        except Exception as e:\n",
    "            print(\"Error: \", e)"
   ]
  },
  {
   "cell_type": "code",
   "execution_count": null,
   "metadata": {
    "collapsed": true
   },
   "outputs": [],
   "source": [
    "try180707a = NetTour('210009776')\n",
    "\n",
    "bytes_html = try180707a.get_username_static_cookie()\n",
    "\n",
    "string_html = bytes_html.decode('utf-8')"
   ]
  },
  {
   "cell_type": "code",
   "execution_count": null,
   "metadata": {
    "collapsed": true
   },
   "outputs": [],
   "source": [
    "print('Part of html', string_html[0:200])"
   ]
  }
 ],
 "metadata": {
  "kernelspec": {
   "display_name": "Python 3",
   "language": "python",
   "name": "python3"
  },
  "language_info": {
   "codemirror_mode": {
    "name": "ipython",
    "version": 3
   },
   "file_extension": ".py",
   "mimetype": "text/x-python",
   "name": "python",
   "nbconvert_exporter": "python",
   "pygments_lexer": "ipython3",
   "version": "3.6.2"
  }
 },
 "nbformat": 4,
 "nbformat_minor": 2
}
