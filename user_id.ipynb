{
 "cells": [
  {
   "cell_type": "markdown",
   "metadata": {},
   "source": [
    "戚砚笛\n",
    "\n",
    "210009776\n",
    "\n",
    "主页\n",
    "\n",
    "https://weibo.com/210009776?is_all=1\n",
    "\n",
    "粘贴到chrome中两次，比较Cookie\n",
    "\n",
    "https://weibo.com/u/210009776?from=myfollow_all&is_all=1\n",
    "\n",
    "基本信息\n",
    "\n",
    "https://weibo.com/p/1005052163994123/info?mod=pedit_more\n",
    "\n",
    "https://weibo.com/p/100505210009776/info?mod=pedit_more （not work）\n",
    "\n",
    "吕小雨\n",
    "\n",
    "5347125317\n",
    "\n",
    "主页\n",
    "\n",
    "https://weibo.com/5347125317?is_all=1\n",
    "\n",
    "https://weibo.com/u/5347125317?from=myfollow_all&is_all=1\n",
    "\n",
    "基本信息\n",
    "\n",
    "https://weibo.com/p/1005055347125317/info?mod=pedit_more\n",
    "\n"
   ]
  },
  {
   "cell_type": "code",
   "execution_count": null,
   "metadata": {
    "collapsed": true
   },
   "outputs": [],
   "source": []
  }
 ],
 "metadata": {
  "kernelspec": {
   "display_name": "Python 3",
   "language": "python",
   "name": "python3"
  },
  "language_info": {
   "codemirror_mode": {
    "name": "ipython",
    "version": 3
   },
   "file_extension": ".py",
   "mimetype": "text/x-python",
   "name": "python",
   "nbconvert_exporter": "python",
   "pygments_lexer": "ipython3",
   "version": "3.6.2"
  }
 },
 "nbformat": 4,
 "nbformat_minor": 2
}
